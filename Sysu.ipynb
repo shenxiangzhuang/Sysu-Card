{
 "cells": [
  {
   "cell_type": "markdown",
   "metadata": {},
   "source": [
    "# Sysu Card"
   ]
  },
  {
   "cell_type": "code",
   "execution_count": 1,
   "metadata": {},
   "outputs": [],
   "source": [
    "import pandas as pd\n",
    "import numpy as np\n",
    "import matplotlib.pyplot as plt\n",
    "import seaborn as sns\n",
    "from pandas_profiling import ProfileReport"
   ]
  },
  {
   "cell_type": "code",
   "execution_count": 2,
   "metadata": {},
   "outputs": [],
   "source": [
    "plt.rcParams['font.family'] = ['sans-serif']\n",
    "plt.rcParams['font.sans-serif'] = ['SimHei']\n",
    "# 负号显示\n",
    "plt.rcParams['axes.unicode_minus'] = False"
   ]
  },
  {
   "cell_type": "code",
   "execution_count": 3,
   "metadata": {},
   "outputs": [],
   "source": [
    "data = pd.read_csv(\"data.csv\")"
   ]
  },
  {
   "cell_type": "code",
   "execution_count": 4,
   "metadata": {},
   "outputs": [],
   "source": [
    "data[\"OCCTIME\"] = pd.to_datetime(data[\"OCCTIME\"], infer_datetime_format=True) \n",
    "data[\"EFFECTDATE\"] = pd.to_datetime(data[\"EFFECTDATE\"], infer_datetime_format=True) "
   ]
  },
  {
   "cell_type": "code",
   "execution_count": 5,
   "metadata": {},
   "outputs": [
    {
     "data": {
      "text/html": [
       "<div>\n",
       "<style scoped>\n",
       "    .dataframe tbody tr th:only-of-type {\n",
       "        vertical-align: middle;\n",
       "    }\n",
       "\n",
       "    .dataframe tbody tr th {\n",
       "        vertical-align: top;\n",
       "    }\n",
       "\n",
       "    .dataframe thead th {\n",
       "        text-align: right;\n",
       "    }\n",
       "</style>\n",
       "<table border=\"1\" class=\"dataframe\">\n",
       "  <thead>\n",
       "    <tr style=\"text-align: right;\">\n",
       "      <th></th>\n",
       "      <th>RO</th>\n",
       "      <th>OCCTIME</th>\n",
       "      <th>EFFECTDATE</th>\n",
       "      <th>MERCNAME</th>\n",
       "      <th>TRANAMT</th>\n",
       "      <th>TRANNAME</th>\n",
       "      <th>TRANCODE</th>\n",
       "      <th>CARDBAL</th>\n",
       "      <th>JDESC</th>\n",
       "      <th>JNUM</th>\n",
       "      <th>MACCOUNT</th>\n",
       "      <th>F1</th>\n",
       "      <th>F2</th>\n",
       "      <th>F3</th>\n",
       "      <th>SYSCODE</th>\n",
       "      <th>POSCODE</th>\n",
       "      <th>CMONEY</th>\n",
       "      <th>ZMONEY</th>\n",
       "    </tr>\n",
       "  </thead>\n",
       "  <tbody>\n",
       "    <tr>\n",
       "      <th>0</th>\n",
       "      <td>1</td>\n",
       "      <td>2021-01-25 12:26:07</td>\n",
       "      <td>2021-01-25 12:27:07</td>\n",
       "      <td>学五饭堂一楼小卖部</td>\n",
       "      <td>-9.2</td>\n",
       "      <td>持卡人消费</td>\n",
       "      <td>15</td>\n",
       "      <td>106.75</td>\n",
       "      <td>NaN</td>\n",
       "      <td>2984466561</td>\n",
       "      <td>1000011.0</td>\n",
       "      <td>1</td>\n",
       "      <td>11</td>\n",
       "      <td>2</td>\n",
       "      <td>473</td>\n",
       "      <td>18</td>\n",
       "      <td>106.75</td>\n",
       "      <td>106.75</td>\n",
       "    </tr>\n",
       "    <tr>\n",
       "      <th>1</th>\n",
       "      <td>2</td>\n",
       "      <td>2021-01-23 12:05:58</td>\n",
       "      <td>2021-01-23 12:06:34</td>\n",
       "      <td>南校园东区松涛园食堂</td>\n",
       "      <td>-16.0</td>\n",
       "      <td>持卡人消费</td>\n",
       "      <td>15</td>\n",
       "      <td>115.95</td>\n",
       "      <td>NaN</td>\n",
       "      <td>2987726049</td>\n",
       "      <td>1000088.0</td>\n",
       "      <td>1</td>\n",
       "      <td>11</td>\n",
       "      <td>2</td>\n",
       "      <td>463</td>\n",
       "      <td>45</td>\n",
       "      <td>115.95</td>\n",
       "      <td>115.95</td>\n",
       "    </tr>\n",
       "    <tr>\n",
       "      <th>2</th>\n",
       "      <td>3</td>\n",
       "      <td>2021-01-23 07:43:09</td>\n",
       "      <td>2021-01-23 07:43:33</td>\n",
       "      <td>学五饭堂一楼小卖部</td>\n",
       "      <td>-8.0</td>\n",
       "      <td>持卡人消费</td>\n",
       "      <td>15</td>\n",
       "      <td>131.95</td>\n",
       "      <td>NaN</td>\n",
       "      <td>2984463093</td>\n",
       "      <td>1000011.0</td>\n",
       "      <td>1</td>\n",
       "      <td>11</td>\n",
       "      <td>2</td>\n",
       "      <td>473</td>\n",
       "      <td>18</td>\n",
       "      <td>131.95</td>\n",
       "      <td>131.95</td>\n",
       "    </tr>\n",
       "    <tr>\n",
       "      <th>3</th>\n",
       "      <td>4</td>\n",
       "      <td>2021-01-20 12:43:18</td>\n",
       "      <td>2021-01-20 12:43:45</td>\n",
       "      <td>学五清真饭堂</td>\n",
       "      <td>-14.6</td>\n",
       "      <td>持卡人消费</td>\n",
       "      <td>15</td>\n",
       "      <td>139.95</td>\n",
       "      <td>NaN</td>\n",
       "      <td>2984457456</td>\n",
       "      <td>1000020.0</td>\n",
       "      <td>1</td>\n",
       "      <td>11</td>\n",
       "      <td>2</td>\n",
       "      <td>473</td>\n",
       "      <td>94</td>\n",
       "      <td>139.95</td>\n",
       "      <td>139.95</td>\n",
       "    </tr>\n",
       "    <tr>\n",
       "      <th>4</th>\n",
       "      <td>5</td>\n",
       "      <td>2021-01-19 12:17:00</td>\n",
       "      <td>2021-01-19 12:17:08</td>\n",
       "      <td>学五清真饭堂</td>\n",
       "      <td>-8.6</td>\n",
       "      <td>持卡人消费</td>\n",
       "      <td>15</td>\n",
       "      <td>154.55</td>\n",
       "      <td>NaN</td>\n",
       "      <td>2984454340</td>\n",
       "      <td>1000020.0</td>\n",
       "      <td>1</td>\n",
       "      <td>11</td>\n",
       "      <td>2</td>\n",
       "      <td>473</td>\n",
       "      <td>94</td>\n",
       "      <td>154.55</td>\n",
       "      <td>154.55</td>\n",
       "    </tr>\n",
       "  </tbody>\n",
       "</table>\n",
       "</div>"
      ],
      "text/plain": [
       "   RO             OCCTIME          EFFECTDATE  \\\n",
       "0   1 2021-01-25 12:26:07 2021-01-25 12:27:07   \n",
       "1   2 2021-01-23 12:05:58 2021-01-23 12:06:34   \n",
       "2   3 2021-01-23 07:43:09 2021-01-23 07:43:33   \n",
       "3   4 2021-01-20 12:43:18 2021-01-20 12:43:45   \n",
       "4   5 2021-01-19 12:17:00 2021-01-19 12:17:08   \n",
       "\n",
       "                             MERCNAME  TRANAMT  \\\n",
       "0     学五饭堂一楼小卖部                           -9.2   \n",
       "1      南校园东区松涛园食堂                        -16.0   \n",
       "2     学五饭堂一楼小卖部                           -8.0   \n",
       "3  学五清真饭堂                                -14.6   \n",
       "4  学五清真饭堂                                 -8.6   \n",
       "\n",
       "                              TRANNAME TRANCODE  CARDBAL JDESC        JNUM  \\\n",
       "0  持卡人消费                                     15   106.75   NaN  2984466561   \n",
       "1  持卡人消费                                     15   115.95   NaN  2987726049   \n",
       "2  持卡人消费                                     15   131.95   NaN  2984463093   \n",
       "3  持卡人消费                                     15   139.95   NaN  2984457456   \n",
       "4  持卡人消费                                     15   154.55   NaN  2984454340   \n",
       "\n",
       "    MACCOUNT  F1  F2  F3  SYSCODE  POSCODE  CMONEY  ZMONEY  \n",
       "0  1000011.0   1  11   2      473       18  106.75  106.75  \n",
       "1  1000088.0   1  11   2      463       45  115.95  115.95  \n",
       "2  1000011.0   1  11   2      473       18  131.95  131.95  \n",
       "3  1000020.0   1  11   2      473       94  139.95  139.95  \n",
       "4  1000020.0   1  11   2      473       94  154.55  154.55  "
      ]
     },
     "execution_count": 5,
     "metadata": {},
     "output_type": "execute_result"
    }
   ],
   "source": [
    "data.head()"
   ]
  },
  {
   "cell_type": "code",
   "execution_count": 6,
   "metadata": {},
   "outputs": [
    {
     "data": {
      "text/html": [
       "<div>\n",
       "<style scoped>\n",
       "    .dataframe tbody tr th:only-of-type {\n",
       "        vertical-align: middle;\n",
       "    }\n",
       "\n",
       "    .dataframe tbody tr th {\n",
       "        vertical-align: top;\n",
       "    }\n",
       "\n",
       "    .dataframe thead th {\n",
       "        text-align: right;\n",
       "    }\n",
       "</style>\n",
       "<table border=\"1\" class=\"dataframe\">\n",
       "  <thead>\n",
       "    <tr style=\"text-align: right;\">\n",
       "      <th></th>\n",
       "      <th>RO</th>\n",
       "      <th>OCCTIME</th>\n",
       "      <th>EFFECTDATE</th>\n",
       "      <th>MERCNAME</th>\n",
       "      <th>TRANAMT</th>\n",
       "      <th>TRANNAME</th>\n",
       "      <th>TRANCODE</th>\n",
       "      <th>CARDBAL</th>\n",
       "      <th>JDESC</th>\n",
       "      <th>JNUM</th>\n",
       "      <th>MACCOUNT</th>\n",
       "      <th>F1</th>\n",
       "      <th>F2</th>\n",
       "      <th>F3</th>\n",
       "      <th>SYSCODE</th>\n",
       "      <th>POSCODE</th>\n",
       "      <th>CMONEY</th>\n",
       "      <th>ZMONEY</th>\n",
       "    </tr>\n",
       "  </thead>\n",
       "  <tbody>\n",
       "    <tr>\n",
       "      <th>464</th>\n",
       "      <td>465</td>\n",
       "      <td>2019-08-31 17:30:11</td>\n",
       "      <td>2019-08-31 17:19:11</td>\n",
       "      <td>学五饭堂一楼小卖部</td>\n",
       "      <td>-10.9</td>\n",
       "      <td>持卡人消费</td>\n",
       "      <td>15</td>\n",
       "      <td>275.2</td>\n",
       "      <td>NaN</td>\n",
       "      <td>2984396627</td>\n",
       "      <td>1000011.0</td>\n",
       "      <td>1</td>\n",
       "      <td>11</td>\n",
       "      <td>2</td>\n",
       "      <td>473</td>\n",
       "      <td>15</td>\n",
       "      <td>275.2</td>\n",
       "      <td>275.2</td>\n",
       "    </tr>\n",
       "    <tr>\n",
       "      <th>465</th>\n",
       "      <td>466</td>\n",
       "      <td>2019-08-31 12:39:28</td>\n",
       "      <td>2019-08-31 12:28:47</td>\n",
       "      <td>学五饭堂一楼小卖部</td>\n",
       "      <td>-13.9</td>\n",
       "      <td>持卡人消费</td>\n",
       "      <td>15</td>\n",
       "      <td>286.1</td>\n",
       "      <td>NaN</td>\n",
       "      <td>2984394792</td>\n",
       "      <td>1000011.0</td>\n",
       "      <td>1</td>\n",
       "      <td>11</td>\n",
       "      <td>2</td>\n",
       "      <td>473</td>\n",
       "      <td>53</td>\n",
       "      <td>286.1</td>\n",
       "      <td>286.1</td>\n",
       "    </tr>\n",
       "    <tr>\n",
       "      <th>466</th>\n",
       "      <td>467</td>\n",
       "      <td>2019-08-31 12:32:43</td>\n",
       "      <td>2019-08-31 12:21:23</td>\n",
       "      <td>NaN</td>\n",
       "      <td>300.0</td>\n",
       "      <td>补助流水</td>\n",
       "      <td>22</td>\n",
       "      <td>300.0</td>\n",
       "      <td>NaN</td>\n",
       "      <td>4488725</td>\n",
       "      <td>NaN</td>\n",
       "      <td>0</td>\n",
       "      <td>0</td>\n",
       "      <td>0</td>\n",
       "      <td>142</td>\n",
       "      <td>6</td>\n",
       "      <td>300.0</td>\n",
       "      <td>300.0</td>\n",
       "    </tr>\n",
       "    <tr>\n",
       "      <th>467</th>\n",
       "      <td>468</td>\n",
       "      <td>2019-08-31 10:23:31</td>\n",
       "      <td>2019-08-31 10:12:10</td>\n",
       "      <td>NaN</td>\n",
       "      <td>300.0</td>\n",
       "      <td>银行转帐</td>\n",
       "      <td>16</td>\n",
       "      <td>0.0</td>\n",
       "      <td>2019083110232241470251597</td>\n",
       "      <td>2778920</td>\n",
       "      <td>NaN</td>\n",
       "      <td>0</td>\n",
       "      <td>0</td>\n",
       "      <td>1</td>\n",
       "      <td>439</td>\n",
       "      <td>1</td>\n",
       "      <td>0.0</td>\n",
       "      <td>0.0</td>\n",
       "    </tr>\n",
       "    <tr>\n",
       "      <th>468</th>\n",
       "      <td>469</td>\n",
       "      <td>2019-08-07 17:19:23</td>\n",
       "      <td>2019-08-07 17:09:07</td>\n",
       "      <td>NaN</td>\n",
       "      <td>0.0</td>\n",
       "      <td>持卡人开户</td>\n",
       "      <td>01</td>\n",
       "      <td>0.0</td>\n",
       "      <td>NaN</td>\n",
       "      <td>789</td>\n",
       "      <td>NaN</td>\n",
       "      <td>0</td>\n",
       "      <td>1</td>\n",
       "      <td>1</td>\n",
       "      <td>90</td>\n",
       "      <td>0</td>\n",
       "      <td>0.0</td>\n",
       "      <td>0.0</td>\n",
       "    </tr>\n",
       "  </tbody>\n",
       "</table>\n",
       "</div>"
      ],
      "text/plain": [
       "      RO             OCCTIME          EFFECTDATE  \\\n",
       "464  465 2019-08-31 17:30:11 2019-08-31 17:19:11   \n",
       "465  466 2019-08-31 12:39:28 2019-08-31 12:28:47   \n",
       "466  467 2019-08-31 12:32:43 2019-08-31 12:21:23   \n",
       "467  468 2019-08-31 10:23:31 2019-08-31 10:12:10   \n",
       "468  469 2019-08-07 17:19:23 2019-08-07 17:09:07   \n",
       "\n",
       "                            MERCNAME  TRANAMT  \\\n",
       "464  学五饭堂一楼小卖部                          -10.9   \n",
       "465  学五饭堂一楼小卖部                          -13.9   \n",
       "466                              NaN    300.0   \n",
       "467                              NaN    300.0   \n",
       "468                              NaN      0.0   \n",
       "\n",
       "                                 TRANNAME TRANCODE  CARDBAL  \\\n",
       "464   持卡人消费                                     15    275.2   \n",
       "465   持卡人消费                                     15    286.1   \n",
       "466  补助流水                                       22    300.0   \n",
       "467  银行转帐                                       16      0.0   \n",
       "468   持卡人开户                                     01      0.0   \n",
       "\n",
       "                         JDESC        JNUM   MACCOUNT  F1  F2  F3  SYSCODE  \\\n",
       "464                        NaN  2984396627  1000011.0   1  11   2      473   \n",
       "465                        NaN  2984394792  1000011.0   1  11   2      473   \n",
       "466                        NaN     4488725        NaN   0   0   0      142   \n",
       "467  2019083110232241470251597     2778920        NaN   0   0   1      439   \n",
       "468                        NaN         789        NaN   0   1   1       90   \n",
       "\n",
       "     POSCODE  CMONEY  ZMONEY  \n",
       "464       15   275.2   275.2  \n",
       "465       53   286.1   286.1  \n",
       "466        6   300.0   300.0  \n",
       "467        1     0.0     0.0  \n",
       "468        0     0.0     0.0  "
      ]
     },
     "execution_count": 6,
     "metadata": {},
     "output_type": "execute_result"
    }
   ],
   "source": [
    "data.tail()"
   ]
  },
  {
   "cell_type": "markdown",
   "metadata": {},
   "source": [
    "## 最常去的地方:-)"
   ]
  },
  {
   "cell_type": "markdown",
   "metadata": {},
   "source": [
    "学五真的不好吃,但是它太近了Orz"
   ]
  },
  {
   "cell_type": "code",
   "execution_count": 42,
   "metadata": {},
   "outputs": [
    {
     "data": {
      "image/png": "[encoded data removed]",
      "text/plain": [
       "<Figure size 864x432 with 2 Axes>"
      ]
     },
     "metadata": {},
     "output_type": "display_data"
    }
   ],
   "source": [
    "plt.figure(figsize=(12, 6))\n",
    "\n",
    "plt.subplot(121)\n",
    "sns.countplot(x='TRANNAME', data=data)\n",
    "plt.xticks(rotation=-90)\n",
    "plt.title(\"交易类型\")\n",
    "\n",
    "\n",
    "plt.subplot(122)\n",
    "sns.countplot(x='MERCNAME', data=data)\n",
    "plt.xticks(rotation=-90)\n",
    "plt.title(\"交易地点\")\n",
    "\n",
    "plt.savefig(\"pics/交易类型与地点.jpg\", dpi=300)"
   ]
  },
  {
   "cell_type": "markdown",
   "metadata": {},
   "source": [
    "## 每餐10~15块的样子"
   ]
  },
  {
   "cell_type": "code",
   "execution_count": 13,
   "metadata": {},
   "outputs": [],
   "source": [
    "spends = data[(data['TRANAMT'] <= 50) & (data['TRANAMT'] >= -50)]"
   ]
  },
  {
   "cell_type": "code",
   "execution_count": 43,
   "metadata": {},
   "outputs": [
    {
     "data": {
      "image/png": "[encoded data removed]",
      "text/plain": [
       "<Figure size 864x432 with 2 Axes>"
      ]
     },
     "metadata": {},
     "output_type": "display_data"
    }
   ],
   "source": [
    "plt.figure(figsize=(12, 6))\n",
    "\n",
    "plt.subplot(121)\n",
    "plt.hist(x='TRANAMT', data=spends, bins=100, color = 'red')\n",
    "plt.xticks(rotation=-90)\n",
    "\n",
    "plt.subplot(122)\n",
    "sns.boxplot(x='TRANAMT', data=spends, color='red')\n",
    "plt.xticks(rotation=-90)\n",
    "plt.savefig(\"pics/每餐金额.jpg\", dpi=300)"
   ]
  },
  {
   "cell_type": "markdown",
   "metadata": {},
   "source": [
    "## 当我们谈论吃饭时我们在谈论什么:-)"
   ]
  },
  {
   "cell_type": "markdown",
   "metadata": {},
   "source": [
    "这空白的半年就很魔幻233"
   ]
  },
  {
   "cell_type": "code",
   "execution_count": 44,
   "metadata": {},
   "outputs": [
    {
     "data": {
      "image/png": "[encoded data removed]",
      "text/plain": [
       "<Figure size 1008x432 with 1 Axes>"
      ]
     },
     "metadata": {},
     "output_type": "display_data"
    }
   ],
   "source": [
    "plt.figure(figsize=(14, 6))\n",
    "plt.scatter(x = \"OCCTIME\", y = \"TRANAMT\", data = spends, color='red', alpha=0.6) \n",
    "plt.xticks(rotation = 25)\n",
    "plt.ylabel(\"金额\")\n",
    "plt.xlabel(\"日期\")\n",
    "plt.title(\"就餐日期-金额\")\n",
    "plt.savefig(\"pics/就餐日期-金额.jpg\", dpi=300)"
   ]
  },
  {
   "cell_type": "markdown",
   "metadata": {},
   "source": [
    "感觉就餐时间还算规律?除了早餐比较少之外:-)"
   ]
  },
  {
   "cell_type": "code",
   "execution_count": 45,
   "metadata": {},
   "outputs": [
    {
     "data": {
      "image/png": "[encoded data removed]",
      "text/plain": [
       "<Figure size 1008x432 with 1 Axes>"
      ]
     },
     "metadata": {},
     "output_type": "display_data"
    }
   ],
   "source": [
    "spends['TIME'] = spends['OCCTIME'].dt.time\n",
    "plt.figure(figsize=(14, 6))\n",
    "plt.plot_date(x = \"TIME\", y = \"TRANAMT\", data = spends, color='red', alpha=0.6) \n",
    "plt.ylabel(\"金额\")\n",
    "plt.title(\"就餐时间-金额\")\n",
    "plt.savefig(\"pics/就餐时间-金额.jpg\", dpi=300)"
   ]
  },
  {
   "cell_type": "markdown",
   "metadata": {},
   "source": [
    "## Profile"
   ]
  },
  {
   "cell_type": "code",
   "execution_count": 9,
   "metadata": {
    "scrolled": false
   },
   "outputs": [
    {
     "data": {
      "application/vnd.jupyter.widget-view+json": {
       "model_id": "72cf29bf89dc4a7e9e7df7358a2f1f9e",
       "version_major": 2,
       "version_minor": 0
      },
      "text/plain": [
       "HBox(children=(FloatProgress(value=0.0, description='variables', max=18.0, style=ProgressStyle(description_wid…"
      ]
     },
     "metadata": {},
     "output_type": "display_data"
    },
    {
     "name": "stdout",
     "output_type": "stream",
     "text": [
      "\n"
     ]
    },
    {
     "data": {
      "application/vnd.jupyter.widget-view+json": {
       "model_id": "ae84f9aafdab40c2afbd628491d014f6",
       "version_major": 2,
       "version_minor": 0
      },
      "text/plain": [
       "HBox(children=(FloatProgress(value=0.0, description='correlations', max=6.0, style=ProgressStyle(description_w…"
      ]
     },
     "metadata": {},
     "output_type": "display_data"
    },
    {
     "name": "stdout",
     "output_type": "stream",
     "text": [
      "\n"
     ]
    },
    {
     "data": {
      "application/vnd.jupyter.widget-view+json": {
       "model_id": "a0b52356d47c4cb5b7c051c4a665b982",
       "version_major": 2,
       "version_minor": 0
      },
      "text/plain": [
       "HBox(children=(FloatProgress(value=0.0, description='interactions [continuous]', max=81.0, style=ProgressStyle…"
      ]
     },
     "metadata": {},
     "output_type": "display_data"
    },
    {
     "name": "stdout",
     "output_type": "stream",
     "text": [
      "\n"
     ]
    },
    {
     "data": {
      "application/vnd.jupyter.widget-view+json": {
       "model_id": "cd4f095ec8a54c3b83a7a1b861ab1bd6",
       "version_major": 2,
       "version_minor": 0
      },
      "text/plain": [
       "HBox(children=(FloatProgress(value=0.0, description='table', max=1.0, style=ProgressStyle(description_width='i…"
      ]
     },
     "metadata": {},
     "output_type": "display_data"
    },
    {
     "name": "stdout",
     "output_type": "stream",
     "text": [
      "\n"
     ]
    },
    {
     "data": {
      "application/vnd.jupyter.widget-view+json": {
       "model_id": "0010c4a6824743a980b4b7bee3bf33ac",
       "version_major": 2,
       "version_minor": 0
      },
      "text/plain": [
       "HBox(children=(FloatProgress(value=0.0, description='missing', max=4.0, style=ProgressStyle(description_width=…"
      ]
     },
     "metadata": {},
     "output_type": "display_data"
    },
    {
     "name": "stdout",
     "output_type": "stream",
     "text": [
      "\n"
     ]
    },
    {
     "data": {
      "application/vnd.jupyter.widget-view+json": {
       "model_id": "ce2c1b8b48404d5b8ce2a37a746f5f3d",
       "version_major": 2,
       "version_minor": 0
      },
      "text/plain": [
       "HBox(children=(FloatProgress(value=0.0, description='warnings', max=3.0, style=ProgressStyle(description_width…"
      ]
     },
     "metadata": {},
     "output_type": "display_data"
    },
    {
     "name": "stdout",
     "output_type": "stream",
     "text": [
      "\n"
     ]
    },
    {
     "data": {
      "application/vnd.jupyter.widget-view+json": {
       "model_id": "612a3253b5764131894189b5304bc0d9",
       "version_major": 2,
       "version_minor": 0
      },
      "text/plain": [
       "HBox(children=(FloatProgress(value=0.0, description='package', max=1.0, style=ProgressStyle(description_width=…"
      ]
     },
     "metadata": {},
     "output_type": "display_data"
    },
    {
     "name": "stdout",
     "output_type": "stream",
     "text": [
      "\n"
     ]
    },
    {
     "data": {
      "application/vnd.jupyter.widget-view+json": {
       "model_id": "155288e6d7f54ed79b0a55d56cfd6ba9",
       "version_major": 2,
       "version_minor": 0
      },
      "text/plain": [
       "HBox(children=(FloatProgress(value=0.0, description='build report structure', max=1.0, style=ProgressStyle(des…"
      ]
     },
     "metadata": {},
     "output_type": "display_data"
    },
    {
     "name": "stdout",
     "output_type": "stream",
     "text": [
      "\n"
     ]
    }
   ],
   "source": [
    "profile = ProfileReport(data, title='Pandas Profiling Report')"
   ]
  },
  {
   "cell_type": "code",
   "execution_count": 10,
   "metadata": {
    "scrolled": false
   },
   "outputs": [
    {
     "data": {
      "application/vnd.jupyter.widget-view+json": {
       "model_id": "7412eab7cb1a49a183730d6dd68fcc9b",
       "version_major": 2,
       "version_minor": 0
      },
      "text/plain": [
       "Tab(children=(Tab(children=(GridBox(children=(VBox(children=(GridspecLayout(children=(HTML(value='Number of va…"
      ]
     },
     "metadata": {},
     "output_type": "display_data"
    },
    {
     "data": {
      "text/html": [
       "Report generated with <a href=\"https://github.com/pandas-profiling/pandas-profiling\">pandas-profiling</a>."
      ],
      "text/plain": [
       "<IPython.core.display.HTML object>"
      ]
     },
     "metadata": {},
     "output_type": "display_data"
    }
   ],
   "source": [
    "profile.to_widgets()"
   ]
  },
  {
   "cell_type": "code",
   "execution_count": null,
   "metadata": {},
   "outputs": [],
   "source": []
  }
 ],
 "metadata": {
  "kernelspec": {
   "display_name": "ML",
   "language": "python",
   "name": "ml"
  },
  "language_info": {
   "codemirror_mode": {
    "name": "ipython",
    "version": 3
   },
   "file_extension": ".py",
   "mimetype": "text/x-python",
   "name": "python",
   "nbconvert_exporter": "python",
   "pygments_lexer": "ipython3",
   "version": "3.6.12"
  }
 },
 "nbformat": 4,
 "nbformat_minor": 2
}
